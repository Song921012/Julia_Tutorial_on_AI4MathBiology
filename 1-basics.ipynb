{
 "cells": [
  {
   "cell_type": "markdown",
   "metadata": {},
   "source": [
    "# Julia Basics "
   ]
  },
  {
   "cell_type": "markdown",
   "metadata": {},
   "source": [
    "## Why Julia?\n",
    "\n",
    "Slow language is not suitable for this task --- learning neural networks embedded in differential equations.\n",
    "\n",
    "In short\n",
    "- Solving two language problems: `C++` is fast but difficult; `Python` is easy but slow. `Julia` is fast and easy.\n",
    "- Language for Mathematics: writing `Julia` is just like writing mathematics. \n",
    "- Similar syntax as `Matlab`; Simple as `Python`; Fast as `C++`.\n",
    "\n",
    "More advantages and disadvantages can be seen in [Why Julia? · Julia for Optimization and Learning](https://juliateachingctu.github.io/Julia-for-Optimization-and-Learning/stable/why/)"
   ]
  },
  {
   "cell_type": "markdown",
   "metadata": {},
   "source": [
    "## Installation: Julia+VSCode\n",
    "\n",
    "`Julia` + `VScode`\n",
    "\n",
    "### Recommended\n",
    "\n",
    "We recommend to install Julia via [`juliaup`](https://github.com/JuliaLang/juliaup). We are using\n",
    "the latest, *stable* version of Julia (which at the time of this writing is `v1.10`). Once you have\n",
    "installed `juliaup` you can get any Julia version you want via:\n",
    "\n",
    "```bash\n",
    "juliaup add $JULIA_VERSION\n",
    "\n",
    "# or more concretely:\n",
    "juliaup add 1.10\n",
    "\n",
    "# but please, just use the latest, stable version\n",
    "```\n",
    "\n",
    "Now you should be able to start Julia and be greeted with the following:\n",
    "```bash\n",
    "$ julia\n",
    "               _\n",
    "   _       _ _(_)_     |  Documentation: https://docs.julialang.org\n",
    "  (_)     | (_) (_)    |\n",
    "   _ _   _| |_  __ _   |  Type \"?\" for help, \"]?\" for Pkg help.\n",
    "  | | | | | | |/ _` |  |\n",
    "  | | |_| | | | (_| |  |  Version 1.10.0 (2023-12-25)\n",
    " _/ |\\__'_|_|_|\\__'_|  |  Official https://julialang.org/ release\n",
    "|__/                   |\n",
    "\n",
    "julia>\n",
    "```\n",
    "\n",
    "### Alternatives\n",
    "\n",
    "Julia can also be installed from the official website [download page](https://julialang.org/downloads/). The appropriate version is the **64-bits** version for the Windows operating system in most cases. In case of difficulties, see [platform-specific instructions](https://julialang.org/downloads/platform/).\n",
    "\n",
    "### Editor\n",
    "\n",
    "There is no one way to install/develop and run Julia, which may be strange for users coming from MATLAB,\n",
    "but for users of general purpose languages such as Python, C++ this is quite common. Most of the\n",
    "Julia programmers to date are using\n",
    "\n",
    "- [Visual Studio Code](https://code.visualstudio.com/),\n",
    "- and the corresponding [Julia extension](https://www.julia-vscode.org/).\n",
    "\n",
    "This setup is described in a comprehensive [step-by-step\n",
    "guide](https://juliateachingctu.github.io/Julia-for-Optimization-and Learning/stable/installation/vscode/)\n",
    "in [*Julia for Optimization & Learning*](https://juliateachingctu.github.io/Julia-for-Optimization-and-Learning/stable/).\n",
    "\n",
    "For other editors, we refer to [Julia IDE](https://julialang.org/)"
   ]
  },
  {
   "cell_type": "markdown",
   "metadata": {},
   "source": [
    "## Packages and Environment Management\n",
    "`Julia` manages packages and environments like `Rust`. Very convenient!\n",
    "Strongly recommendation: go through this document [Working with Environment · Pkg.jl](https://pkgdocs.julialang.org/v1/environments/#Working-with-Environments) quickly.\n",
    "\n",
    "To set up the same environment as me, you can follow the guides in [Song921012/Julia_Tutorial_on_AI4MathBiology](https://github.com/Song921012/Julia_Tutorial_on_AI4MathBiology)"
   ]
  },
  {
   "cell_type": "markdown",
   "metadata": {},
   "source": [
    "## Other Julia Courses and Materials\n",
    "\n",
    "- [Official documentation](https://docs.julialang.org/en/v1/)\n",
    "- Slack channel: [Community](https://julialang.org/community/)\n",
    "- Important:[Cheatsheet for differences between Julia and Matlab and Python](https://cheatsheets.quantecon.org/)\n",
    "- [Cheatsheet of basic functions](https://cheatsheets.quantecon.org/julia-cheatsheet.html)\n",
    "- [Cheatsheet of advanced functions](https://juliadocs.github.io/Julia-Cheat-Sheet/)\n",
    "- [Think Julia: How to Think Like a Computer Scientist](https://benlauwens.github.io/ThinkJulia.jl/latest/book.html#chap01)\n",
    "- [From Zero to Julia!](https://techytok.com/from-zero-to-julia/)\n",
    "- Recommended: [Julia for Optimization and Learning](https://juliateachingctu.github.io/Julia-for-Optimization-and-Learning/stable/)\n",
    "- [Scientific Programming in Julia](https://juliateachingctu.github.io/Scientific-Programming-in-Julia/dev/)\n",
    "- [Julia Data Science](https://juliadatascience.io/)\n",
    "- [Statistics with Julia: Fundamentals for Data Science, Machine Learning and Artificial Intelligence](https://statisticswithjulia.org/)"
   ]
  }
 ],
 "metadata": {
  "kernelspec": {
   "display_name": "Julia 1.10.0",
   "language": "julia",
   "name": "julia-1.10"
  },
  "language_info": {
   "file_extension": ".jl",
   "mimetype": "application/julia",
   "name": "julia",
   "version": "1.10.0"
  }
 },
 "nbformat": 4,
 "nbformat_minor": 2
}
