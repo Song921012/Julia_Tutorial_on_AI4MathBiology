{
 "cells": [
  {
   "cell_type": "markdown",
   "metadata": {},
   "source": [
    "# Symbolic Regression\n",
    "\n",
    "More details, we refer to [MilesCranmer/SymbolicRegression.jl: Distributed High-Performance Symbolic Regression in Julia](https://github.com/MilesCranmer/SymbolicRegression.jl)\n",
    "\n",
    "Symbolic Regression (SR) is a type of regression analysis that searches the space of mathematical expressions to find the model that best fits a given dataset in terms of accuracy and simplicity. It utilizes binary trees to represent a function, and does not rely on a particular model as a starting point to the algorithm. Instead, initial expressions are formed by randomly combining mathematical building blocks such as\n",
    "- binary mathematical operators: $+, -, *, /$;\n",
    "- unary analytic functions: $\\sin, \\cos, \\exp , \\tanh, \\dots$;\n",
    "- constants;\n",
    "- state variables.\n",
    "\n",
    "Usually, a subset of these primitives will be specified by the person operating it, but that's not a requirement of the technique. SR uses genetic programming, as well as more recently methods utilizing Bayesian methods and physics inspired AI to discover the equations. More details and benchmarks on symbolic regression methods can be seen in [cavalab/srbench: A living benchmark framework for symbolic regression](https://github.com/cavalab/srbench).\n",
    "\n",
    "For example, we generate data from the following function which can be used to investigate the mass media impact on infectious disease:\n",
    "$$ f(I) = \\beta \\exp(-\\delta I)I,$$\n",
    "and the binary tree of the equation is shown in \n",
    "![symbolictree](./symbolictree.png)\n",
    "\n",
    "The function can be discovered by using symbolic regression, where the codes implemented in Julia are as following."
   ]
  },
  {
   "cell_type": "markdown",
   "metadata": {},
   "source": [
    "## IMPORTANT: Activate Julia environment first"
   ]
  },
  {
   "cell_type": "code",
   "execution_count": null,
   "metadata": {},
   "outputs": [],
   "source": [
    "using Pkg\n",
    "Pkg.activate(\".\")"
   ]
  },
  {
   "cell_type": "code",
   "execution_count": 16,
   "metadata": {},
   "outputs": [
    {
     "data": {
      "text/plain": [
       "(x1 * exp(-0.8866729615216796 - ((x1 - 5.823564614359717) * 0.10000000003526198))) * 0.27113961336456716"
      ]
     },
     "metadata": {},
     "output_type": "display_data"
    }
   ],
   "source": [
    "# Load packages\n",
    "using SymbolicRegression\n",
    "using SymbolicUtils\n",
    "# Generating test data\n",
    "I = collect(0:0.1:10)\n",
    "f(x) = 0.2exp(-0.1*x)*x\n",
    "Y = f.(I)\n",
    "\n",
    "\n",
    "# choosing perations\n",
    "options = SymbolicRegression.Options(\n",
    "    binary_operators=(+, *, -),\n",
    "    unary_operators=(exp,),\n",
    "    npopulations=20\n",
    ")\n",
    "\n",
    "\n",
    "# equations searching\n",
    "hallOfFame = EquationSearch(I', Y, niterations=150, options=options, parallelism=:multithreading\n",
    ")\n",
    "# output\n",
    "dominating = calculate_pareto_frontier(I, Y, hallOfFame, options)\n",
    "eqn = node_to_symbolic(dominating[end].tree, options)"
   ]
  }
 ],
 "metadata": {
  "kernelspec": {
   "display_name": "Julia 1.10.0",
   "language": "julia",
   "name": "julia-1.10"
  },
  "language_info": {
   "file_extension": ".jl",
   "mimetype": "application/julia",
   "name": "julia",
   "version": "1.10.0"
  }
 },
 "nbformat": 4,
 "nbformat_minor": 2
}
